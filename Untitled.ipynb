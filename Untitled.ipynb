{
 "cells": [
  {
   "cell_type": "code",
   "execution_count": 5,
   "metadata": {
    "collapsed": false
   },
   "outputs": [],
   "source": [
    "import astropy\n",
    "import astroquery\n"
   ]
  },
  {
   "cell_type": "code",
   "execution_count": 31,
   "metadata": {
    "collapsed": false
   },
   "outputs": [],
   "source": [
    "from astroquery.sdss import SDSS"
   ]
  },
  {
   "cell_type": "code",
   "execution_count": 18,
   "metadata": {
    "collapsed": false
   },
   "outputs": [],
   "source": [
    "def get_photometry(N=10000):\n",
    "    \"\"\"Get photometry from the SDSS database\n",
    "    \n",
    "    Parameters\n",
    "    ==========\n",
    "    N : int\n",
    "        specifies the number of objects to querry\n",
    "        \n",
    "    Returns\n",
    "    ==========\n",
    "    data : astropy.Table\n",
    "        table of queried photometry\n",
    "    \"\"\"\n",
    "    query = \"\"\"\n",
    "    SELECT TOP {N} \n",
    "    p.psfMag_r, p.fiberMag_r, p.fiber2Mag_r, p.petroMag_r, \n",
    "    p.deVMag_r, p.expMag_r, p.modelMag_r, p.cModelMag_r, \n",
    "    s.class\n",
    "    FROM PhotoObjAll AS p JOIN specObjAll s ON s.bestobjid = p.objid\n",
    "    WHERE p.mode = 1 AND s.sciencePrimary = 1 AND p.clean = 1 AND s.class != 'QSO'\n",
    "    ORDER BY p.objid ASC\n",
    "    \"\"\"\n",
    "    data = SDSS.query_sql(query.format(N=N))\n",
    "    return data"
   ]
  },
  {
   "cell_type": "code",
   "execution_count": 22,
   "metadata": {
    "collapsed": false
   },
   "outputs": [],
   "source": [
    "data = get_photometry(10)\n",
    "\n"
   ]
  },
  {
   "cell_type": "code",
   "execution_count": 29,
   "metadata": {
    "collapsed": false,
    "scrolled": false
   },
   "outputs": [],
   "source": [
    "def test_get_photometry():\n",
    "    data = get_photometry(10)\n",
    "    assert len(data)==10\n",
    "    "
   ]
  },
  {
   "cell_type": "code",
   "execution_count": 30,
   "metadata": {
    "collapsed": false
   },
   "outputs": [],
   "source": [
    "test_get_photometry()"
   ]
  },
  {
   "cell_type": "code",
   "execution_count": null,
   "metadata": {
    "collapsed": true
   },
   "outputs": [],
   "source": []
  }
 ],
 "metadata": {
  "anaconda-cloud": {},
  "kernelspec": {
   "display_name": "Python [Root]",
   "language": "python",
   "name": "Python [Root]"
  },
  "language_info": {
   "codemirror_mode": {
    "name": "ipython",
    "version": 3
   },
   "file_extension": ".py",
   "mimetype": "text/x-python",
   "name": "python",
   "nbconvert_exporter": "python",
   "pygments_lexer": "ipython3",
   "version": "3.5.2"
  }
 },
 "nbformat": 4,
 "nbformat_minor": 0
}
